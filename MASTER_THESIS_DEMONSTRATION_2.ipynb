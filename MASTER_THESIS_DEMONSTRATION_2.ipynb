{
 "cells": [
  {
   "cell_type": "markdown",
   "metadata": {
    "deletable": true,
    "editable": true
   },
   "source": [
    "<h1>Demonstration 2 - Using the framework</h1>\n",
    "<br>\n",
    "A SOFTWARE FRAMEWORK FOR INTERACTIVE VISUALIZATION OF OPTIMIZATION ALGORITHMS<br>\n",
    "MASTER THESIS No. 1666<br>\n",
    "Marija Kalebota Kodžoman<br>\n",
    "Mentor: Domagoj Jakobović, Ph. D. C. S.<br>\n",
    "Faculty of Electrical Engineering and Computing, University of Zagreb<br>\n",
    "July 2018"
   ]
  },
  {
   "cell_type": "code",
   "execution_count": 1,
   "metadata": {
    "collapsed": true
   },
   "outputs": [],
   "source": [
    "import sys\n",
    "import numpy as np"
   ]
  },
  {
   "cell_type": "code",
   "execution_count": 2,
   "metadata": {
    "collapsed": false,
    "deletable": true,
    "editable": true
   },
   "outputs": [],
   "source": [
    "from FIVOA import * #to access Point\n",
    "from FIVOA.Functions import *\n",
    "from FIVOA.Constraints import *\n",
    "from FIVOA.Algorithms import *\n",
    "from FIVOA.Drawing import *"
   ]
  },
  {
   "cell_type": "code",
   "execution_count": 3,
   "metadata": {
    "collapsed": true
   },
   "outputs": [],
   "source": [
    "function = F3OneDimensional.F3OneDimensional()"
   ]
  },
  {
   "cell_type": "code",
   "execution_count": 4,
   "metadata": {
    "collapsed": true
   },
   "outputs": [],
   "source": [
    "hj_algorithm = HookeJeeves.HookeJeeves(function = function, step = 1, factor = 0.1, epsilon = 1E-6)"
   ]
  },
  {
   "cell_type": "code",
   "execution_count": 5,
   "metadata": {
    "collapsed": false
   },
   "outputs": [
    {
     "name": "stdout",
     "output_type": "stream",
     "text": [
      "Final solution of Hooke-Jeeves search for initial point 10 is [2.999999999999999]\n"
     ]
    }
   ],
   "source": [
    "point = Point.Point(elements = [10])\n",
    "solution_hj, logger_hj = hj_algorithm.run(point)"
   ]
  },
  {
   "cell_type": "code",
   "execution_count": 6,
   "metadata": {
    "collapsed": true
   },
   "outputs": [],
   "source": [
    "presenter = Presenter.Presenter(logger=logger_hj, drawer=Drawer.Drawer(), animator=Animator.Animator())"
   ]
  },
  {
   "cell_type": "code",
   "execution_count": 23,
   "metadata": {
    "collapsed": false
   },
   "outputs": [
    {
     "data": {
      "application/vnd.jupyter.widget-view+json": {
       "model_id": "c6e5144541314574be59989e8978557d"
      }
     },
     "metadata": {},
     "output_type": "display_data"
    },
    {
     "data": {
      "application/vnd.jupyter.widget-view+json": {
       "model_id": "cc00862772c54fc6b4b89ea3b3416a6c"
      }
     },
     "metadata": {},
     "output_type": "display_data"
    },
    {
     "data": {
      "application/vnd.jupyter.widget-view+json": {
       "model_id": "94e40b9df50f4863a228b0c4e6c8c6a7"
      }
     },
     "metadata": {},
     "output_type": "display_data"
    }
   ],
   "source": [
    "presenter.present_2D()"
   ]
  },
  {
   "cell_type": "code",
   "execution_count": 8,
   "metadata": {
    "collapsed": false
   },
   "outputs": [],
   "source": [
    "class F5xcosx(IFunction.IFunction):\n",
    "    def value_at(self, point):\n",
    "        self.increment_number_of_calls()\n",
    "        return point.get_value_at_dimension(0) * np.cos(point.get_value_at_dimension(0))"
   ]
  },
  {
   "cell_type": "code",
   "execution_count": 9,
   "metadata": {
    "collapsed": true
   },
   "outputs": [],
   "source": [
    "f5 = F5xcosx()"
   ]
  },
  {
   "cell_type": "code",
   "execution_count": 10,
   "metadata": {
    "collapsed": false
   },
   "outputs": [
    {
     "name": "stdout",
     "output_type": "stream",
     "text": [
      "Final solution of Hooke-Jeeves search for initial point 1.5 is [3.4256179999999987]\n"
     ]
    }
   ],
   "source": [
    "hj_algorithm = HookeJeeves.HookeJeeves(function = f5, step = 1, factor = 0.1, epsilon = 1E-6)\n",
    "\n",
    "point = Point.Point(elements = [-2.5])\n",
    "point = Point.Point(elements = [1.5])\n",
    "#point = Point.Point(elements = [-3.5])\n",
    "solution_hj, logger_hj = hj_algorithm.run(point)"
   ]
  },
  {
   "cell_type": "code",
   "execution_count": 11,
   "metadata": {
    "collapsed": false
   },
   "outputs": [],
   "source": [
    "presenter2 = Presenter.Presenter(logger=logger_hj, drawer=Drawer.Drawer(), animator=Animator.Animator())"
   ]
  },
  {
   "cell_type": "code",
   "execution_count": 12,
   "metadata": {
    "collapsed": false
   },
   "outputs": [
    {
     "data": {
      "application/vnd.jupyter.widget-view+json": {
       "model_id": "20a3ae07cec04e51b16d3fafc573fad6"
      }
     },
     "metadata": {},
     "output_type": "display_data"
    },
    {
     "data": {
      "application/vnd.jupyter.widget-view+json": {
       "model_id": "d649f6b14f3b48b882237428c821c279"
      }
     },
     "metadata": {},
     "output_type": "display_data"
    },
    {
     "data": {
      "application/vnd.jupyter.widget-view+json": {
       "model_id": "15a1c6308cea4432bd9ef3377ccedd1d"
      }
     },
     "metadata": {},
     "output_type": "display_data"
    }
   ],
   "source": [
    "presenter2.present_2D()"
   ]
  },
  {
   "cell_type": "code",
   "execution_count": 13,
   "metadata": {
    "collapsed": true
   },
   "outputs": [],
   "source": [
    "EPSILON = 1E-6\n",
    "ALPHA = 1\n",
    "BETA = 0.5\n",
    "GAMMA = 2\n",
    "SIGMA = 0.5"
   ]
  },
  {
   "cell_type": "code",
   "execution_count": 14,
   "metadata": {
    "collapsed": true
   },
   "outputs": [],
   "source": [
    "f1 = F1RosenbrockBananaFunction.F1RosenbrockBananaFunction()\n",
    "point = Point.Point([-1.9, 2])\n",
    "\n",
    "explicit_constraint_on_X1 = ExplicitConstraintForOneDimension.ExplicitConstraintForOneDimension(-100., +100.)\n",
    "explicit_constraint_on_X2 = ExplicitConstraintForOneDimension.ExplicitConstraintForOneDimension(-100., +100.)\n",
    "explicit_constraints = [explicit_constraint_on_X1, explicit_constraint_on_X2]\n",
    "\n",
    "implicit_constraint_1 = InequalityImplicitConstraint1.InequalityImplicitConstraint1()\n",
    "implicit_constraint_2 = InequalityImplicitConstraint2.InequalityImplicitConstraint2()\n",
    "implicit_constraints = [implicit_constraint_1,implicit_constraint_2]"
   ]
  },
  {
   "cell_type": "code",
   "execution_count": 15,
   "metadata": {
    "collapsed": true
   },
   "outputs": [],
   "source": [
    "box_algorithm = BoxAlgorithm.BoxAlgorithm(f1, explicit_constraints, implicit_constraints, EPSILON, ALPHA)\n",
    "solution_box, logger_box = box_algorithm.run(point)"
   ]
  },
  {
   "cell_type": "code",
   "execution_count": 16,
   "metadata": {
    "collapsed": true
   },
   "outputs": [],
   "source": [
    "presenter3 = Presenter.Presenter(logger=logger_box, drawer=Drawer.Drawer(), animator=Animator.Animator())"
   ]
  },
  {
   "cell_type": "code",
   "execution_count": 21,
   "metadata": {
    "collapsed": false
   },
   "outputs": [
    {
     "data": {
      "application/vnd.jupyter.widget-view+json": {
       "model_id": "c41eecfdea4a4d0db8dc36f8e9d876c7"
      }
     },
     "metadata": {},
     "output_type": "display_data"
    },
    {
     "data": {
      "application/vnd.jupyter.widget-view+json": {
       "model_id": "1fb67f149bf84ace841028defee1c8fb"
      }
     },
     "metadata": {},
     "output_type": "display_data"
    },
    {
     "data": {
      "application/vnd.jupyter.widget-view+json": {
       "model_id": "8bb967aa0355428cb92b850305558c97"
      }
     },
     "metadata": {},
     "output_type": "display_data"
    }
   ],
   "source": [
    "presenter3.present_contour()"
   ]
  },
  {
   "cell_type": "code",
   "execution_count": 18,
   "metadata": {
    "collapsed": true
   },
   "outputs": [],
   "source": [
    "presenter4 = Presenter.Presenter(logger=logger_box, drawer=Drawer.Drawer(), animator=Animator.Animator())"
   ]
  },
  {
   "cell_type": "code",
   "execution_count": 22,
   "metadata": {
    "collapsed": false
   },
   "outputs": [
    {
     "data": {
      "application/vnd.jupyter.widget-view+json": {
       "model_id": "9022975aadf747ae865344439626f4ef"
      }
     },
     "metadata": {},
     "output_type": "display_data"
    },
    {
     "data": {
      "application/vnd.jupyter.widget-view+json": {
       "model_id": "35de3845824a4a39ba32174c37fa7752"
      }
     },
     "metadata": {},
     "output_type": "display_data"
    },
    {
     "data": {
      "application/vnd.jupyter.widget-view+json": {
       "model_id": "45ddc1baa96d404cacb596326027bf21"
      }
     },
     "metadata": {},
     "output_type": "display_data"
    }
   ],
   "source": [
    "presenter4.present_3D()"
   ]
  },
  {
   "cell_type": "code",
   "execution_count": null,
   "metadata": {
    "collapsed": true
   },
   "outputs": [],
   "source": []
  }
 ],
 "metadata": {
  "kernelspec": {
   "display_name": "Python [conda root]",
   "language": "python",
   "name": "conda-root-py"
  },
  "language_info": {
   "codemirror_mode": {
    "name": "ipython",
    "version": 2
   },
   "file_extension": ".py",
   "mimetype": "text/x-python",
   "name": "python",
   "nbconvert_exporter": "python",
   "pygments_lexer": "ipython2",
   "version": "2.7.12"
  }
 },
 "nbformat": 4,
 "nbformat_minor": 2
}
